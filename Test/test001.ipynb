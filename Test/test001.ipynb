{
 "cells": [
  {
   "cell_type": "code",
   "execution_count": 1,
   "metadata": {},
   "outputs": [],
   "source": [
    "s = [1, 2, 3, 4, 5]"
   ]
  },
  {
   "cell_type": "code",
   "execution_count": 2,
   "metadata": {},
   "outputs": [
    {
     "data": {
      "text/plain": [
       "2"
      ]
     },
     "execution_count": 2,
     "metadata": {},
     "output_type": "execute_result"
    }
   ],
   "source": [
    "s.index(3)"
   ]
  },
  {
   "cell_type": "code",
   "execution_count": 4,
   "metadata": {},
   "outputs": [
    {
     "name": "stdout",
     "output_type": "stream",
     "text": [
      "-1\n"
     ]
    }
   ],
   "source": [
    "try:\n",
    "    s.index(10)\n",
    "except:\n",
    "    print(-1)"
   ]
  },
  {
   "cell_type": "code",
   "execution_count": 7,
   "metadata": {},
   "outputs": [],
   "source": [
    "def binarySearch(li, ri, k, arr, n):\n",
    "    ni = (li+ri)//2\n",
    "    # print(arr[ni])\n",
    "    if li>=ri and ni!=k:\n",
    "        return -1\n",
    "    elif arr[ni] == k:\n",
    "        return ni\n",
    "    elif arr[ni] < k:\n",
    "        return binarySearch(ni+1, ri, k, arr, n)\n",
    "    elif arr[ni] > k:\n",
    "        return binarySearch(li, ni, k, arr, n)\n",
    "    "
   ]
  },
  {
   "cell_type": "code",
   "execution_count": 8,
   "metadata": {},
   "outputs": [
    {
     "name": "stdout",
     "output_type": "stream",
     "text": [
      "4\n"
     ]
    }
   ],
   "source": [
    "arr = [1, 2, 3, 4, 5]\n",
    "print(binarySearch(0, len(arr), 5, arr, len(arr)))"
   ]
  },
  {
   "cell_type": "code",
   "execution_count": 9,
   "metadata": {},
   "outputs": [],
   "source": [
    "t = \"1 2 5 8 9 10 11 12 13 14 16 17 19 22 23 24 26 28 31 33 34 36 37 38 39 40 42 43 44 46 47 48 49 50 54 55 59 60 62 63 64 65 66 68 69 70 71 72 73 75 77 79 80 82 86 87 88 92 93 94 96 97 98 99 100\".split(' ')"
   ]
  },
  {
   "cell_type": "code",
   "execution_count": 10,
   "metadata": {},
   "outputs": [],
   "source": [
    "array = []\n",
    "for i in t:\n",
    "    array.append(int(i))"
   ]
  },
  {
   "cell_type": "code",
   "execution_count": 11,
   "metadata": {},
   "outputs": [],
   "source": [
    "array.sort()"
   ]
  },
  {
   "cell_type": "code",
   "execution_count": 12,
   "metadata": {},
   "outputs": [
    {
     "name": "stdout",
     "output_type": "stream",
     "text": [
      "-1\n"
     ]
    }
   ],
   "source": [
    "print(binarySearch(0, len(array), 15, array, len(array)))"
   ]
  },
  {
   "cell_type": "code",
   "execution_count": 25,
   "metadata": {},
   "outputs": [
    {
     "data": {
      "text/plain": [
       "1"
      ]
     },
     "execution_count": 25,
     "metadata": {},
     "output_type": "execute_result"
    }
   ],
   "source": [
    "1<<0"
   ]
  },
  {
   "cell_type": "code",
   "execution_count": 26,
   "metadata": {},
   "outputs": [
    {
     "data": {
      "text/plain": [
       "2"
      ]
     },
     "execution_count": 26,
     "metadata": {},
     "output_type": "execute_result"
    }
   ],
   "source": [
    "1<<1"
   ]
  },
  {
   "cell_type": "code",
   "execution_count": 27,
   "metadata": {},
   "outputs": [
    {
     "data": {
      "text/plain": [
       "4"
      ]
     },
     "execution_count": 27,
     "metadata": {},
     "output_type": "execute_result"
    }
   ],
   "source": [
    "1<<2"
   ]
  },
  {
   "cell_type": "code",
   "execution_count": 28,
   "metadata": {},
   "outputs": [
    {
     "data": {
      "text/plain": [
       "{1, 2, 3, 4, 5}"
      ]
     },
     "execution_count": 28,
     "metadata": {},
     "output_type": "execute_result"
    }
   ],
   "source": [
    "set1 = {1,2,3,4,5}\n",
    "set2 = {1,2,3}\n",
    "\n",
    "set3 = set1.union(set2)\n",
    "set3"
   ]
  },
  {
   "cell_type": "code",
   "execution_count": 29,
   "metadata": {},
   "outputs": [
    {
     "data": {
      "text/plain": [
       "5"
      ]
     },
     "execution_count": 29,
     "metadata": {},
     "output_type": "execute_result"
    }
   ],
   "source": [
    "len(set3)"
   ]
  },
  {
   "cell_type": "code",
   "execution_count": 30,
   "metadata": {},
   "outputs": [
    {
     "data": {
      "text/plain": [
       "True"
      ]
     },
     "execution_count": 30,
     "metadata": {},
     "output_type": "execute_result"
    }
   ],
   "source": [
    "a = [1,2,3,4]\n",
    "\n",
    "2 in a"
   ]
  },
  {
   "cell_type": "code",
   "execution_count": 36,
   "metadata": {},
   "outputs": [
    {
     "data": {
      "text/plain": [
       "0"
      ]
     },
     "execution_count": 36,
     "metadata": {},
     "output_type": "execute_result"
    }
   ],
   "source": [
    "a = {1,2,3,4}\n",
    "b = {1,4,3,2}\n",
    "len(a.difference(b))"
   ]
  },
  {
   "cell_type": "code",
   "execution_count": 37,
   "metadata": {},
   "outputs": [
    {
     "data": {
      "text/plain": [
       "10"
      ]
     },
     "execution_count": 37,
     "metadata": {},
     "output_type": "execute_result"
    }
   ],
   "source": [
    "a=[1,2,3,4]\n",
    "sum(a)"
   ]
  },
  {
   "cell_type": "code",
   "execution_count": 40,
   "metadata": {},
   "outputs": [
    {
     "ename": "KeyError",
     "evalue": "5",
     "output_type": "error",
     "traceback": [
      "\u001b[0;31m---------------------------------------------------------------------------\u001b[0m",
      "\u001b[0;31mKeyError\u001b[0m                                  Traceback (most recent call last)",
      "Cell \u001b[0;32mIn[40], line 8\u001b[0m\n\u001b[1;32m      6\u001b[0m \u001b[38;5;28;01mfor\u001b[39;00m i \u001b[38;5;129;01min\u001b[39;00m \u001b[38;5;28mrange\u001b[39m(N):\n\u001b[1;32m      7\u001b[0m     dummy[a[i]] \u001b[38;5;241m+\u001b[39m\u001b[38;5;241m=\u001b[39m \u001b[38;5;241m1\u001b[39m\n\u001b[0;32m----> 8\u001b[0m     dummy[b[i]] \u001b[38;5;241m+\u001b[39m\u001b[38;5;241m=\u001b[39m \u001b[38;5;241m1\u001b[39m\n\u001b[1;32m      9\u001b[0m dummy\n",
      "\u001b[0;31mKeyError\u001b[0m: 5"
     ]
    }
   ],
   "source": [
    "a = [1,2,3,4,5]\n",
    "b = [5,4,3,2,1]\n",
    "N = 5\n",
    "dummy = dict()\n",
    "for i in range(N):\n",
    "    dummy[a[i]] += 1\n",
    "    dummy[b[i]] += 1\n",
    "dummy"
   ]
  },
  {
   "cell_type": "code",
   "execution_count": 1,
   "metadata": {},
   "outputs": [
    {
     "data": {
      "text/plain": [
       "[1, 2, 3, 4, 5]"
      ]
     },
     "execution_count": 1,
     "metadata": {},
     "output_type": "execute_result"
    }
   ],
   "source": [
    "arr = [3,2,4,1,5]\n",
    "arr.sort()\n",
    "arr"
   ]
  },
  {
   "cell_type": "code",
   "execution_count": 8,
   "metadata": {},
   "outputs": [
    {
     "name": "stdout",
     "output_type": "stream",
     "text": [
      "[3, 2, 1, 6, 5, 4, 7]\n"
     ]
    }
   ],
   "source": [
    "N = 7\n",
    "k = 3\n",
    "arr = [1,2,3,4,5,6,7]\n",
    "for i in range(0, N, k):\n",
    "    front = i\n",
    "    rear = i+k-1 if i+k-1 < N else N-1\n",
    "    while front <= rear:\n",
    "        temp = arr[front]\n",
    "        arr[front] = arr[rear]\n",
    "        arr[rear] = temp\n",
    "        front += 1\n",
    "        rear -= 1\n",
    "print(arr)"
   ]
  },
  {
   "cell_type": "code",
   "execution_count": 7,
   "metadata": {},
   "outputs": [
    {
     "name": "stdout",
     "output_type": "stream",
     "text": [
      "Front 0 Rear 2\n",
      "Front 3 Rear 5\n",
      "Front 6 Rear 6\n"
     ]
    }
   ],
   "source": [
    "N = 7\n",
    "k = 3\n",
    "arr = [1,2,3,4,5,6,7]\n",
    "for i in range(0, N, k):\n",
    "    front = i\n",
    "    rear = i+k-1 if i+k-1 < N else N-1\n",
    "    print('Front',front,'Rear',rear)"
   ]
  },
  {
   "cell_type": "code",
   "execution_count": 9,
   "metadata": {},
   "outputs": [
    {
     "data": {
      "text/plain": [
       "{1: 0}"
      ]
     },
     "execution_count": 9,
     "metadata": {},
     "output_type": "execute_result"
    }
   ],
   "source": [
    "dictionary = dict()\n",
    "if 1 in dictionary:\n",
    "    dictionary[1] += 1\n",
    "else:\n",
    "    dictionary[1] = 0\n",
    "dictionary"
   ]
  },
  {
   "cell_type": "code",
   "execution_count": 83,
   "metadata": {},
   "outputs": [
    {
     "name": "stdout",
     "output_type": "stream",
     "text": [
      "0 5 11\n",
      "0 2 5\n",
      "0 1 2\n",
      "0 0 1\n",
      "-1\n"
     ]
    }
   ],
   "source": [
    "arr = [1,2,3,4,5,6,7,8,9,9.5,10]\n",
    "left = 0\n",
    "right = len(arr)\n",
    "key = 0\n",
    "\n",
    "while left < right:\n",
    "    mid = (left+right)//2\n",
    "    print(left, mid, right)\n",
    "    if arr[mid] == key:\n",
    "        print(mid)\n",
    "        break\n",
    "    elif arr[mid] < key:\n",
    "        left = mid+1\n",
    "    elif arr[mid] > key:\n",
    "        right = mid\n",
    "if left>=right:\n",
    "    print(-1)\n"
   ]
  },
  {
   "cell_type": "code",
   "execution_count": 87,
   "metadata": {},
   "outputs": [
    {
     "name": "stdout",
     "output_type": "stream",
     "text": [
      "-1\n"
     ]
    }
   ],
   "source": [
    "def binarySearch(li,ri,k,arr, n):\n",
    "        ni = (li+ri)//2\n",
    "        # print(arr[ni])\n",
    "        if li>=ri:\n",
    "            return -1\n",
    "        elif arr[ni] == k:\n",
    "            return ni\n",
    "        elif arr[ni] < k:\n",
    "            return binarySearch(ni+1, ri, k, arr, n)\n",
    "        elif arr[ni] > k:\n",
    "            return binarySearch(li, ni, k, arr, n)\n",
    "        \n",
    "print(binarySearch(0, len(arr), 0, arr, len(arr)))"
   ]
  },
  {
   "cell_type": "code",
   "execution_count": 100,
   "metadata": {},
   "outputs": [
    {
     "name": "stdout",
     "output_type": "stream",
     "text": [
      "2\n",
      "Prime number\n"
     ]
    }
   ],
   "source": [
    "import math\n",
    "n = 9\n",
    "for i in range(2, int(math.sqrt(n))):\n",
    "    print(i)\n",
    "    if n%i == 0:\n",
    "        print('Not a Prime Number')\n",
    "        break\n",
    "    else:\n",
    "        print('Prime number')\n",
    "        break"
   ]
  },
  {
   "cell_type": "code",
   "execution_count": 2,
   "metadata": {},
   "outputs": [
    {
     "name": "stdout",
     "output_type": "stream",
     "text": [
      "4321\n"
     ]
    }
   ],
   "source": [
    "n = 1234\n",
    "s = i = 0\n",
    "while n>0:\n",
    "    s = s * 10 + n%10\n",
    "    n = n//10\n",
    "print(s)"
   ]
  },
  {
   "cell_type": "code",
   "execution_count": 2,
   "metadata": {},
   "outputs": [
    {
     "name": "stdout",
     "output_type": "stream",
     "text": [
      "Hi\n",
      "Hi\n",
      "Hi\n",
      "2\n"
     ]
    }
   ],
   "source": [
    "tracker = 0\n",
    "for tracker in range(3):\n",
    "    print(\"Hi\")\n",
    "print(tracker)"
   ]
  },
  {
   "cell_type": "code",
   "execution_count": 4,
   "metadata": {},
   "outputs": [
    {
     "name": "stdout",
     "output_type": "stream",
     "text": [
      "True\n"
     ]
    }
   ],
   "source": [
    "first = 3\n",
    "second = 2\n",
    "third = 1\n",
    "if (first > second > third):\n",
    "    print(\"True\")\n",
    "else:\n",
    "    print(\"False\")"
   ]
  },
  {
   "cell_type": "code",
   "execution_count": 7,
   "metadata": {},
   "outputs": [
    {
     "name": "stdout",
     "output_type": "stream",
     "text": [
      "After 1st cond 2 0 -1\n",
      "After 1st cond 4 2 0\n",
      "After 3rd cond 4 2 1\n",
      "After 2nd cond 4 3 2\n",
      "After 1st cond 5 4 3\n",
      "3\n"
     ]
    }
   ],
   "source": [
    "a = [2,4,1,3,5]\n",
    "n = 5\n",
    "if len(a) < 3:\n",
    "    print(-1)\n",
    "else:\n",
    "    first = 0\n",
    "    second = -1\n",
    "    third = -2\n",
    "    for tracker in range(n):\n",
    "    # print(a[tracker], first, second, third)\n",
    "        if (a[tracker] > first > second > third):\n",
    "            third = second\n",
    "            second = first\n",
    "            first = a[tracker]\n",
    "            print(\"After 1st cond\", first, second, third)\n",
    "        elif (first > a[tracker] > second > third):\n",
    "            third = second\n",
    "            second = a[tracker]\n",
    "            print(\"After 2nd cond\", first, second, third)\n",
    "        elif (first > second > a[tracker] > third):\n",
    "            third = a[tracker]\n",
    "            print(\"After 3rd cond\", first, second, third)\n",
    "print(third)"
   ]
  },
  {
   "cell_type": "code",
   "execution_count": 62,
   "metadata": {},
   "outputs": [],
   "source": [
    "s = 'orqxvbq' ## q\n",
    "dictionary = dict()\n",
    "s = list(s)\n",
    "for i in range(len(s)):\n",
    "    if s[i] in dictionary:\n",
    "        dictionary[s[i]] += 1\n",
    "    else:\n",
    "        dictionary[s[i]] = 1\n",
    "# sorted(dictionary)"
   ]
  },
  {
   "cell_type": "code",
   "execution_count": 63,
   "metadata": {},
   "outputs": [
    {
     "data": {
      "text/plain": [
       "{'o': 1, 'r': 1, 'q': 2, 'x': 1, 'v': 1, 'b': 1}"
      ]
     },
     "execution_count": 63,
     "metadata": {},
     "output_type": "execute_result"
    }
   ],
   "source": [
    "dictionary"
   ]
  },
  {
   "cell_type": "code",
   "execution_count": 64,
   "metadata": {},
   "outputs": [
    {
     "name": "stdout",
     "output_type": "stream",
     "text": [
      "q\n"
     ]
    }
   ],
   "source": [
    "max = dictionary[s[0]]\n",
    "letter = 'zz'\n",
    "for i in dictionary.keys():\n",
    "    if dictionary[i] > max:\n",
    "        max = dictionary[i]\n",
    "for i in dictionary.keys():\n",
    "    if dictionary[i] == max and i < letter:\n",
    "        letter = i\n",
    "\n",
    "    \n",
    "print(letter)"
   ]
  },
  {
   "cell_type": "code",
   "execution_count": 12,
   "metadata": {},
   "outputs": [
    {
     "data": {
      "text/plain": [
       "True"
      ]
     },
     "execution_count": 12,
     "metadata": {},
     "output_type": "execute_result"
    }
   ],
   "source": [
    "\"\" < \"a\""
   ]
  },
  {
   "cell_type": "code",
   "execution_count": 13,
   "metadata": {},
   "outputs": [
    {
     "data": {
      "text/plain": [
       "True"
      ]
     },
     "execution_count": 13,
     "metadata": {},
     "output_type": "execute_result"
    }
   ],
   "source": [
    "\"z\" < \"zz\""
   ]
  },
  {
   "cell_type": "code",
   "execution_count": 8,
   "metadata": {},
   "outputs": [
    {
     "name": "stdout",
     "output_type": "stream",
     "text": [
      "2\n",
      "-1\n",
      "-1\n"
     ]
    }
   ],
   "source": [
    "class Myqueue:\n",
    "    def __init__(self):\n",
    "        self.queue = []\n",
    "    def push(self, x):\n",
    "        self.queue.append(x)\n",
    "    def pop(self):\n",
    "        try:\n",
    "            return self.queue.pop(0)\n",
    "        except:\n",
    "            return -1\n",
    "    def display(self):\n",
    "        return self.queue\n",
    "\n",
    "s = Myqueue()\n",
    "s.push(2)\n",
    "print(s.pop())\n",
    "print(s.pop())\n",
    "print(s.pop())"
   ]
  },
  {
   "cell_type": "code",
   "execution_count": 6,
   "metadata": {},
   "outputs": [
    {
     "name": "stdout",
     "output_type": "stream",
     "text": [
      "[4, 5, 1, 2, 3]\n"
     ]
    }
   ],
   "source": [
    "arr = [1,2,3,4,5]\n",
    "n = 5\n",
    "d = 3\n",
    "print(list(arr[d:n]+arr[:d]))"
   ]
  },
  {
   "cell_type": "code",
   "execution_count": 24,
   "metadata": {},
   "outputs": [
    {
     "data": {
      "text/plain": [
       "[]"
      ]
     },
     "execution_count": 24,
     "metadata": {},
     "output_type": "execute_result"
    }
   ],
   "source": [
    "arr.insert(0,arr.pop())"
   ]
  },
  {
   "cell_type": "code",
   "execution_count": 7,
   "metadata": {},
   "outputs": [],
   "source": [
    "arr.reverse()"
   ]
  },
  {
   "cell_type": "code",
   "execution_count": 8,
   "metadata": {},
   "outputs": [
    {
     "data": {
      "text/plain": [
       "[5, 4, 3, 2, 1]"
      ]
     },
     "execution_count": 8,
     "metadata": {},
     "output_type": "execute_result"
    }
   ],
   "source": [
    "arr"
   ]
  },
  {
   "cell_type": "code",
   "execution_count": 13,
   "metadata": {},
   "outputs": [],
   "source": [
    "temp = arr[:d]"
   ]
  },
  {
   "cell_type": "code",
   "execution_count": 14,
   "metadata": {},
   "outputs": [],
   "source": [
    "temp.reverse()"
   ]
  },
  {
   "cell_type": "code",
   "execution_count": 15,
   "metadata": {},
   "outputs": [
    {
     "data": {
      "text/plain": [
       "[3, 4, 5]"
      ]
     },
     "execution_count": 15,
     "metadata": {},
     "output_type": "execute_result"
    }
   ],
   "source": [
    "temp"
   ]
  },
  {
   "cell_type": "code",
   "execution_count": 22,
   "metadata": {},
   "outputs": [],
   "source": [
    "arr = [-1,-2,-3,4,5,6,7]\n",
    "d = 2\n",
    "n = 7\n",
    "temp1 = arr[:d]\n",
    "temp1.reverse()\n",
    "temp2 = arr[d:n]\n",
    "temp2.reverse()\n",
    "arr = temp1 + temp2\n",
    "arr.reverse()"
   ]
  },
  {
   "cell_type": "code",
   "execution_count": 23,
   "metadata": {},
   "outputs": [
    {
     "data": {
      "text/plain": [
       "[-3, 4, 5, 6, 7, -1, -2]"
      ]
     },
     "execution_count": 23,
     "metadata": {},
     "output_type": "execute_result"
    }
   ],
   "source": [
    "arr"
   ]
  },
  {
   "cell_type": "code",
   "execution_count": 6,
   "metadata": {},
   "outputs": [
    {
     "name": "stdout",
     "output_type": "stream",
     "text": [
      "2\n"
     ]
    }
   ],
   "source": [
    "s = \"ababaaaaaa\"\n",
    "x = \"abaa\"\n",
    "sublength = len(x)\n",
    "strlength = len(s)\n",
    "flag = 0\n",
    "for i in range(strlength):\n",
    "    if s[i: i+sublength] == x:\n",
    "        print(i)\n",
    "        flag = 1\n",
    "if flag == 0:\n",
    "    print(-1)"
   ]
  },
  {
   "cell_type": "code",
   "execution_count": 7,
   "metadata": {},
   "outputs": [
    {
     "name": "stdout",
     "output_type": "stream",
     "text": [
      "[0, 0, 1, 1, 1]\n"
     ]
    }
   ],
   "source": [
    "arr = [1,0,1,1,0]\n",
    "f = 0\n",
    "r = len(arr) - 1\n",
    "while f <= r:\n",
    "    if arr[f] == 1:\n",
    "        temp = arr[f]\n",
    "        arr[f] = arr[r]\n",
    "        arr[r] = temp\n",
    "        r -= 1\n",
    "    elif arr[f] == 0:\n",
    "        f += 1\n",
    "print(arr)"
   ]
  },
  {
   "cell_type": "code",
   "execution_count": null,
   "metadata": {},
   "outputs": [],
   "source": []
  }
 ],
 "metadata": {
  "kernelspec": {
   "display_name": ".venv",
   "language": "python",
   "name": "python3"
  },
  "language_info": {
   "codemirror_mode": {
    "name": "ipython",
    "version": 3
   },
   "file_extension": ".py",
   "mimetype": "text/x-python",
   "name": "python",
   "nbconvert_exporter": "python",
   "pygments_lexer": "ipython3",
   "version": "3.10.12"
  }
 },
 "nbformat": 4,
 "nbformat_minor": 2
}
