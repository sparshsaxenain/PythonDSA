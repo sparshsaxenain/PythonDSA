{
 "cells": [
  {
   "cell_type": "markdown",
   "metadata": {},
   "source": [
    "## **Constructors in Python Object-Oriented Programming (OOP)**\n",
    "\n",
    "**Concepts:**\n",
    "\n",
    "* **Object:** An instance of a class holding data (attributes) and behavior (methods).\n",
    "* **Class:** A blueprint defining attributes and methods common to objects of that type.\n",
    "* **Constructor:** A special method invoked automatically when creating an object (using `__init__`).\n",
    "\n",
    "**Key Points:**\n",
    "\n",
    "1. **Definition:** The `__init__` method acts as the constructor.\n",
    "2. **Purpose:** Initializes object attributes with starting values.\n",
    "3. **Parameters:** Can take arguments to customize object creation.\n",
    "4. **`self` reference:** Refers to the newly created object instance.\n",
    "5. **Return value:** Constructors don't explicitly return a value.\n",
    "\n",
    "**Example:**\n",
    "\n",
    "```python\n",
    "class Point:\n",
    "  def __init__(self, x, y): ## Constructor\n",
    "    self.x = x\n",
    "    self.y = y\n",
    "\n",
    "  def move(self, dx, dy):\n",
    "    self.x += dx\n",
    "    self.y += dy\n",
    "\n",
    "  def show(self):\n",
    "    print(f\"Point coordinates: ({self.x}, {self.y})\")\n",
    "\n",
    "# Create object:\n",
    "p1 = Point(2, 3)\n",
    "p1.show()  # Output: Point coordinates: (2, 3)\n",
    "\n",
    "# Modify using methods:\n",
    "p1.move(1, -2)\n",
    "p1.show()  # Output: Point coordinates: (3, 1)\n",
    "```\n",
    "\n",
    "**Explanation:**\n",
    "\n",
    "- The `Point` class defines attributes `x` and `y` within the `__init__` constructor.\n",
    "- When creating `p1`, arguments `2` and `3` are passed, initializing those attributes.\n",
    "- The `move` method modifies attributes, and `show` displays them.\n",
    "\n",
    "**Additional Notes:**\n",
    "\n",
    "- Constructors can call other methods for complex initialization.\n",
    "- Multiple constructors with different parameter sets can be defined using method overloading.\n",
    "\n",
    "**Remember:**\n",
    "\n",
    "- Constructors play a crucial role in object creation and initialization.\n",
    "- Understanding constructors is essential for effective OOP in Python."
   ]
  },
  {
   "cell_type": "markdown",
   "metadata": {},
   "source": [
    "# **Types of Variables in OOPS -**\n",
    "+ Instance Variable<br>\n",
    "+ Static Variables<br>\n",
    "+ Local Variables<br>"
   ]
  },
  {
   "cell_type": "markdown",
   "metadata": {},
   "source": [
    "## **Instance Varibles**<br>\n",
    "+ Variables defined within a class but outside methods.<br>\n",
    "+ Specific to each object instance, holding data unique to that object.<br>\n",
    "+ Accessible using `self.variable_name` within methods of the same object.<br>\n",
    "+ Instance variable holds data that is specific to each object created fom the class.<br>"
   ]
  },
  {
   "cell_type": "markdown",
   "metadata": {},
   "source": [
    "## **Static Variables**<br>\n",
    "+ Static variables belong to the class itself.<br>\n",
    "+ They hold a single value shared by all instances of that class.<br>\n",
    "+ Imagine a counter for all created objects; that's a prime example of a static variable.<br>\n",
    "### Defining Static Variables \n",
    "\n",
    "```Python\n",
    "class MyClass:\n",
    "  num_instances = 0  # Static variable\n",
    "\n",
    "  def __init__(self):\n",
    "    MyClass.num_instances += 1  # Increment when creating an instance\n",
    "\n",
    "  def display_count(self):\n",
    "    print(\"Number of instances:\", MyClass.num_instances)\n",
    "```\n",
    "\n",
    "Here, num_instances is a static variable, accessed using the class name (`MyClass.num_instances`), not through individual objects.\n",
    "\n",
    "Key Concepts:\n",
    "+ **Shared value**: All instances access the same memory location for the static variable.<br>\n",
    "+ **Class-level access**: Use the class name, not object instances, to access and modify the static variable.\n",
    "Initialization: Initialize static variables during class definition or within methods using the class name (e.g., `MyClass.num_instances = 0`).<br>\n",
    "+ **Inheritance**: Subclasses inherit static variables from their parent class, but changes in one subclass won't affect others.<br>"
   ]
  },
  {
   "cell_type": "markdown",
   "metadata": {},
   "source": [
    "## **Local Variables**<br>\n",
    "+ Scope of variable till end of method"
   ]
  },
  {
   "cell_type": "code",
   "execution_count": 30,
   "metadata": {},
   "outputs": [],
   "source": [
    "class myClass:\n",
    "    classNo = 0 # Static Variables\n",
    "\n",
    "    def __init__(self, name, age):\n",
    "        self.name = name # Instance variable\n",
    "        self.age = age # Instance variable\n",
    "        myClass.classNo += 1\n",
    "    \n",
    "    def setName(self, name):\n",
    "        self.name = name\n",
    "    \n",
    "    def setAge(self, age):\n",
    "        self.age = age\n",
    "\n",
    "    def getInfo(self):\n",
    "        message = \"Info - \" # Local Variable\n",
    "        print(message, self.name, self.age)\n",
    "        "
   ]
  },
  {
   "cell_type": "code",
   "execution_count": 31,
   "metadata": {},
   "outputs": [
    {
     "name": "stdout",
     "output_type": "stream",
     "text": [
      "1\n",
      "Info -  Sparsh 23\n"
     ]
    }
   ],
   "source": [
    "C1 = myClass(\"Sparsh\", 23)\n",
    "print(C1.classNo)\n",
    "C1.getInfo()"
   ]
  },
  {
   "cell_type": "code",
   "execution_count": 32,
   "metadata": {},
   "outputs": [
    {
     "name": "stdout",
     "output_type": "stream",
     "text": [
      "1\n"
     ]
    }
   ],
   "source": [
    "print(myClass.classNo)"
   ]
  },
  {
   "cell_type": "code",
   "execution_count": 33,
   "metadata": {},
   "outputs": [
    {
     "name": "stdout",
     "output_type": "stream",
     "text": [
      "2\n",
      "Info -  Vidha 22\n"
     ]
    }
   ],
   "source": [
    "C2 = myClass(\"Vidha\",22)\n",
    "print(C2.classNo)\n",
    "C2.getInfo()"
   ]
  },
  {
   "cell_type": "code",
   "execution_count": 34,
   "metadata": {},
   "outputs": [
    {
     "name": "stdout",
     "output_type": "stream",
     "text": [
      "2\n"
     ]
    }
   ],
   "source": [
    "print(myClass.classNo)"
   ]
  },
  {
   "cell_type": "code",
   "execution_count": 35,
   "metadata": {},
   "outputs": [
    {
     "name": "stdout",
     "output_type": "stream",
     "text": [
      "2\n",
      "Info -  Sparsh 23\n"
     ]
    }
   ],
   "source": [
    "C3 = C1\n",
    "print(C3.classNo)\n",
    "C3.getInfo()"
   ]
  },
  {
   "cell_type": "code",
   "execution_count": 36,
   "metadata": {},
   "outputs": [
    {
     "name": "stdout",
     "output_type": "stream",
     "text": [
      "2\n",
      "Info -  Vidha 22\n"
     ]
    }
   ],
   "source": [
    "C4 = C2\n",
    "print(C4.classNo)\n",
    "C4.getInfo()"
   ]
  },
  {
   "cell_type": "code",
   "execution_count": 37,
   "metadata": {},
   "outputs": [
    {
     "data": {
      "text/plain": [
       "True"
      ]
     },
     "execution_count": 37,
     "metadata": {},
     "output_type": "execute_result"
    }
   ],
   "source": [
    "C3.classNo is myClass.classNo"
   ]
  },
  {
   "cell_type": "code",
   "execution_count": 38,
   "metadata": {},
   "outputs": [
    {
     "data": {
      "text/plain": [
       "True"
      ]
     },
     "execution_count": 38,
     "metadata": {},
     "output_type": "execute_result"
    }
   ],
   "source": [
    "C3 is C1"
   ]
  },
  {
   "cell_type": "code",
   "execution_count": 39,
   "metadata": {},
   "outputs": [
    {
     "name": "stdout",
     "output_type": "stream",
     "text": [
      "2\n"
     ]
    }
   ],
   "source": [
    "print(C1.classNo)"
   ]
  },
  {
   "cell_type": "markdown",
   "metadata": {},
   "source": [
    "# **Types of Methods in OOPS -**<br>\n",
    "+ Instance Methods<br>\n",
    "+ Class Methods<br>\n",
    "+ Static Methods<br>"
   ]
  },
  {
   "cell_type": "markdown",
   "metadata": {},
   "source": []
  },
  {
   "cell_type": "code",
   "execution_count": 40,
   "metadata": {},
   "outputs": [],
   "source": [
    "class Teacher:\n",
    "    @classmethod\n",
    "    def fun(cls):\n",
    "        print(id(cls)) ## Print id of class level object reference(object of class, because everything in python is object)"
   ]
  },
  {
   "cell_type": "code",
   "execution_count": 41,
   "metadata": {},
   "outputs": [
    {
     "name": "stdout",
     "output_type": "stream",
     "text": [
      "93861144816880\n"
     ]
    }
   ],
   "source": [
    "print(id(Teacher)) ## Print id of class level object"
   ]
  },
  {
   "cell_type": "code",
   "execution_count": 42,
   "metadata": {},
   "outputs": [
    {
     "name": "stdout",
     "output_type": "stream",
     "text": [
      "93861144816880\n"
     ]
    }
   ],
   "source": [
    "Teacher.fun()"
   ]
  },
  {
   "cell_type": "code",
   "execution_count": null,
   "metadata": {},
   "outputs": [],
   "source": []
  }
 ],
 "metadata": {
  "kernelspec": {
   "display_name": ".venv",
   "language": "python",
   "name": "python3"
  },
  "language_info": {
   "codemirror_mode": {
    "name": "ipython",
    "version": 3
   },
   "file_extension": ".py",
   "mimetype": "text/x-python",
   "name": "python",
   "nbconvert_exporter": "python",
   "pygments_lexer": "ipython3",
   "version": "3.10.12"
  }
 },
 "nbformat": 4,
 "nbformat_minor": 2
}
